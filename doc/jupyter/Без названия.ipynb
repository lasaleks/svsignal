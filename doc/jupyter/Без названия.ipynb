{
 "cells": [
  {
   "cell_type": "code",
   "execution_count": 1,
   "id": "fd8f5afb-e9f0-4a51-b4aa-6ffb79d3626d",
   "metadata": {},
   "outputs": [],
   "source": [
    "import sys\n",
    "import os\n",
    "import grpc\n",
    "import mrs.sppd.insiteexpert.insiteexpert_pb2 as pb2\n",
    "\n",
    "sys.path.append(os.path.dirname(pb2.__file__))\n",
    "from mrs.sppd.insiteexpert.insiteexpert_pb2_grpc import InsiteExpertStub\n",
    "import time"
   ]
  },
  {
   "cell_type": "code",
   "execution_count": 2,
   "id": "c76db4ff-a8b8-42d7-b3bb-3f0e0a639310",
   "metadata": {},
   "outputs": [],
   "source": [
    "channel = grpc.insecure_channel('localhost:8802')\n",
    "try:\n",
    "    grpc.channel_ready_future(channel).result(timeout=10)\n",
    "except grpc.FutureTimeoutError:\n",
    "    sys.exit('Error connecting to server')\n",
    "else:\n",
    "    grpc_cnt = InsiteExpertStub(channel)"
   ]
  },
  {
   "cell_type": "code",
   "execution_count": 125,
   "id": "1dbdf48f-ad3b-4cc9-a569-32813ef530b0",
   "metadata": {},
   "outputs": [
    {
     "data": {
      "text/plain": [
       "id: 11633\n",
       "groupunit_id: 470\n",
       "structureunit_id: 67\n",
       "tab_number: 2037\n",
       "type_unit: 1\n",
       "id_card: 10003\n",
       "id_facility_card: 110\n",
       "first_name: \"\\320\\235\\320\\230\\320\\232\\320\\236\\320\\233\\320\\220\\320\\231\"\n",
       "last_name: \"\\320\\241\\320\\225\\320\\240\\320\\223\\320\\225\\320\\225\\320\\222\\320\\230\\320\\247\"\n",
       "family: \"\\320\\241\\320\\277\\320\\270\\321\\200\\320\\270\\320\\264\\320\\276\\320\\275\\320\\276\\320\\262!\"\n",
       "TagId: 139644\n",
       "GasUnitId: 11634\n",
       "OId: 11632"
      ]
     },
     "execution_count": 125,
     "metadata": {},
     "output_type": "execute_result"
    }
   ],
   "source": [
    "unit = grpc_cnt.GetUnitByIdCard(pb2.MsgIdCard(IdCard=10003, IdFacilityCard=110))\n",
    "unit"
   ]
  },
  {
   "cell_type": "code",
   "execution_count": 126,
   "id": "ccac2809-a204-483c-b03e-943320fc356f",
   "metadata": {},
   "outputs": [
    {
     "data": {
      "text/plain": [
       "id: 11631\n",
       "tab_number: 1007\n",
       "type_unit: 2\n",
       "first_name: \"1007\"\n",
       "TagId: 139642\n",
       "GasUnitId: 11630\n",
       "Access: true\n",
       "OId: 11628"
      ]
     },
     "execution_count": 126,
     "metadata": {},
     "output_type": "execute_result"
    }
   ],
   "source": [
    "gas = grpc_cnt.GetUnitByNumber(pb2.MsgRequestByNumber(TypeUnit=2, Number=1007))\n",
    "gas"
   ]
  },
  {
   "cell_type": "code",
   "execution_count": 127,
   "id": "ab128c75-bee4-4c2e-b015-1bb61818ab53",
   "metadata": {},
   "outputs": [],
   "source": [
    "unit.GasUnitId = gas.id"
   ]
  },
  {
   "cell_type": "code",
   "execution_count": 128,
   "id": "243d8793-0bd5-44bc-a046-4d4cdc85b1cd",
   "metadata": {},
   "outputs": [
    {
     "data": {
      "text/plain": [
       "id: 11636\n",
       "groupunit_id: 470\n",
       "structureunit_id: 67\n",
       "tab_number: 2037\n",
       "type_unit: 1\n",
       "id_card: 10003\n",
       "id_facility_card: 110\n",
       "first_name: \"\\320\\235\\320\\230\\320\\232\\320\\236\\320\\233\\320\\220\\320\\231\"\n",
       "last_name: \"\\320\\241\\320\\225\\320\\240\\320\\223\\320\\225\\320\\225\\320\\222\\320\\230\\320\\247\"\n",
       "family: \"\\320\\241\\320\\277\\320\\270\\321\\200\\320\\270\\320\\264\\320\\276\\320\\275\\320\\276\\320\\262!\"\n",
       "TagId: 139646\n",
       "GasUnitId: 11637\n",
       "OId: 11633"
      ]
     },
     "execution_count": 128,
     "metadata": {},
     "output_type": "execute_result"
    }
   ],
   "source": [
    "grpc_cnt.ReCreateUnit2(pb2.reUnit(ID=unit.id, unit=unit))"
   ]
  },
  {
   "cell_type": "code",
   "execution_count": null,
   "id": "7952af81-f063-43f6-a3c0-3a97dbd57b1f",
   "metadata": {},
   "outputs": [],
   "source": []
  },
  {
   "cell_type": "code",
   "execution_count": 48,
   "id": "18642a64-87c7-470d-8456-7b0d9e320a2a",
   "metadata": {},
   "outputs": [
    {
     "data": {
      "text/plain": []
     },
     "execution_count": 48,
     "metadata": {},
     "output_type": "execute_result"
    }
   ],
   "source": [
    "grpc_cnt.RpcEventRegTag(pb2.MsgEventRegTag(Addr=\"1794\", TidAddr=14185, TidType=36, UTime=int(time.time())))"
   ]
  },
  {
   "cell_type": "code",
   "execution_count": 121,
   "id": "811dbb79-d128-456d-a1c1-8abe5f4d9c34",
   "metadata": {},
   "outputs": [
    {
     "data": {
      "text/plain": [
       "id: 11632\n",
       "groupunit_id: 470\n",
       "structureunit_id: 67\n",
       "tab_number: 2037\n",
       "type_unit: 1\n",
       "id_card: 10003\n",
       "id_facility_card: 110\n",
       "first_name: \"\\320\\235\\320\\230\\320\\232\\320\\236\\320\\233\\320\\220\\320\\231\"\n",
       "last_name: \"\\320\\241\\320\\225\\320\\240\\320\\223\\320\\225\\320\\225\\320\\222\\320\\230\\320\\247\"\n",
       "family: \"\\320\\241\\320\\277\\320\\270\\321\\200\\320\\270\\320\\264\\320\\276\\320\\275\\320\\276\\320\\262!\"\n",
       "TagId: 139643\n",
       "OId: 11627"
      ]
     },
     "execution_count": 121,
     "metadata": {},
     "output_type": "execute_result"
    }
   ],
   "source": [
    "unit = grpc_cnt.GetUnitByIdCard(pb2.MsgIdCard(IdCard=10003, IdFacilityCard=110))\n",
    "unit"
   ]
  },
  {
   "cell_type": "code",
   "execution_count": 122,
   "id": "8187776d-a777-4061-b1a0-af9efa1e61f0",
   "metadata": {},
   "outputs": [
    {
     "data": {
      "text/plain": [
       "id: 11595\n",
       "tab_number: 1006\n",
       "type_unit: 2\n",
       "first_name: \"\\320\\223\\320\\260\\320\\267 1006\"\n",
       "TagId: 139620\n",
       "GasUnitId: 11594\n",
       "OId: 11553"
      ]
     },
     "execution_count": 122,
     "metadata": {},
     "output_type": "execute_result"
    }
   ],
   "source": [
    "gas = grpc_cnt.GetUnitByNumber(pb2.MsgRequestByNumber(TypeUnit=2, Number=1006))\n",
    "gas"
   ]
  },
  {
   "cell_type": "code",
   "execution_count": 123,
   "id": "bd2a0525-39a2-443e-998c-77918c298a17",
   "metadata": {},
   "outputs": [],
   "source": [
    "unit.GasUnitId = gas.id"
   ]
  },
  {
   "cell_type": "code",
   "execution_count": 124,
   "id": "4d7c0989-8063-48e0-ab84-8bb046e1ce63",
   "metadata": {},
   "outputs": [
    {
     "data": {
      "text/plain": [
       "id: 11633\n",
       "groupunit_id: 470\n",
       "structureunit_id: 67\n",
       "tab_number: 2037\n",
       "type_unit: 1\n",
       "id_card: 10003\n",
       "id_facility_card: 110\n",
       "first_name: \"\\320\\235\\320\\230\\320\\232\\320\\236\\320\\233\\320\\220\\320\\231\"\n",
       "last_name: \"\\320\\241\\320\\225\\320\\240\\320\\223\\320\\225\\320\\225\\320\\222\\320\\230\\320\\247\"\n",
       "family: \"\\320\\241\\320\\277\\320\\270\\321\\200\\320\\270\\320\\264\\320\\276\\320\\275\\320\\276\\320\\262!\"\n",
       "TagId: 139644\n",
       "GasUnitId: 11634\n",
       "OId: 11632"
      ]
     },
     "execution_count": 124,
     "metadata": {},
     "output_type": "execute_result"
    }
   ],
   "source": [
    "grpc_cnt.ReCreateUnit2(pb2.reUnit(ID=unit.id, unit=unit))"
   ]
  },
  {
   "cell_type": "code",
   "execution_count": null,
   "id": "4777d281-c2c8-432b-9866-ddb7d1c06e5b",
   "metadata": {},
   "outputs": [],
   "source": []
  }
 ],
 "metadata": {
  "kernelspec": {
   "display_name": "Python 3",
   "language": "python",
   "name": "python3"
  },
  "language_info": {
   "codemirror_mode": {
    "name": "ipython",
    "version": 3
   },
   "file_extension": ".py",
   "mimetype": "text/x-python",
   "name": "python",
   "nbconvert_exporter": "python",
   "pygments_lexer": "ipython3",
   "version": "3.8.2"
  }
 },
 "nbformat": 4,
 "nbformat_minor": 5
}
